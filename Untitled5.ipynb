{
 "cells": [
  {
   "cell_type": "code",
   "execution_count": 7,
   "id": "f0c3deb4",
   "metadata": {},
   "outputs": [
    {
     "name": "stdout",
     "output_type": "stream",
     "text": [
      "Previous model accuracy: 0.95\n",
      "New model accuracy: 0.54\n",
      "Keeping the current model with accuracy: 0.95\n"
     ]
    }
   ],
   "source": [
    "from sklearn.datasets import make_classification\n",
    "from sklearn.model_selection import train_test_split\n",
    "from sklearn.ensemble import RandomForestClassifier, GradientBoostingClassifier, VotingClassifier\n",
    "from sklearn.metrics import accuracy_score\n",
    "from xgboost import XGBClassifier\n",
    "\n",
    "X, y = make_classification(n_samples=5000, n_features=20, n_informative=10, n_clusters_per_class=1, random_state=42)\n",
    "\n",
    "X_train, X_val, y_train, y_val = train_test_split(X, y, test_size=0.2, random_state=42)\n",
    "\n",
    "def train_random_forest(X_train, y_train):\n",
    "    model = RandomForestClassifier(random_state=42, n_estimators=100)\n",
    "    model.fit(X_train, y_train)\n",
    "    return model\n",
    "\n",
    "def train_xgboost(X_train, y_train):\n",
    "    model = XGBClassifier(\n",
    "        random_state=42,\n",
    "        n_estimators=200,\n",
    "        learning_rate=0.05,\n",
    "        max_depth=5,\n",
    "        subsample=0.8,\n",
    "        colsample_bytree=0.8,\n",
    "    )\n",
    "    model.fit(X_train, y_train)\n",
    "    return model\n",
    "\n",
    "def switch_models(X_train, y_train, current_model, accuracy_threshold=0.8):\n",
    "    current_model_predictions = current_model.predict(X_val)\n",
    "    current_model_accuracy = accuracy_score(y_val, current_model_predictions)\n",
    "\n",
    "    new_model = train_xgboost(X_train, y_train)\n",
    "\n",
    "    new_model_predictions = new_model.predict(X_val)\n",
    "    new_model_accuracy = accuracy_score(y_val, new_model_predictions)\n",
    "\n",
    "    print(f\"Previous model accuracy: {current_model_accuracy:.2f}\")\n",
    "    print(f\"New model accuracy: {new_model_accuracy:.2f}\")\n",
    "\n",
    "    if new_model_accuracy > current_model_accuracy:\n",
    "        print(f\"Switching to a new model with accuracy: {new_model_accuracy:.2f}\")\n",
    "        return new_model\n",
    "    else:\n",
    "        print(f\"Keeping the current model with accuracy: {current_model_accuracy:.2f}\")\n",
    "        return current_model\n",
    "\n",
    "current_model = train_random_forest(X_train, y_train)\n",
    "\n",
    "X_large, y_large = make_classification(n_samples=25000, n_features=20, n_informative=10, n_clusters_per_class=1, random_state=42)\n",
    "\n",
    "current_model = switch_models(X_large, y_large, current_model)\n"
   ]
  },
  {
   "cell_type": "code",
   "execution_count": null,
   "id": "19526d3c",
   "metadata": {},
   "outputs": [],
   "source": []
  }
 ],
 "metadata": {
  "kernelspec": {
   "display_name": "Python 3 (ipykernel)",
   "language": "python",
   "name": "python3"
  },
  "language_info": {
   "codemirror_mode": {
    "name": "ipython",
    "version": 3
   },
   "file_extension": ".py",
   "mimetype": "text/x-python",
   "name": "python",
   "nbconvert_exporter": "python",
   "pygments_lexer": "ipython3",
   "version": "3.11.3"
  }
 },
 "nbformat": 4,
 "nbformat_minor": 5
}
