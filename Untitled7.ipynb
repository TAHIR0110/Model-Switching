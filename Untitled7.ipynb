{
 "cells": [
  {
   "cell_type": "code",
   "execution_count": 8,
   "id": "1ecab180",
   "metadata": {},
   "outputs": [],
   "source": [
    "from sklearn.datasets import make_classification\n",
    "from sklearn.model_selection import train_test_split\n",
    "from sklearn.svm import SVC\n",
    "from sklearn.ensemble import RandomForestClassifier, VotingClassifier\n",
    "from xgboost import XGBClassifier\n",
    "from sklearn.metrics import accuracy_score\n",
    "import numpy as np"
   ]
  },
  {
   "cell_type": "code",
   "execution_count": 4,
   "id": "b069b728",
   "metadata": {},
   "outputs": [],
   "source": [
    "def add_noise(X, y, noise_level=0.2):\n",
    "    np.random.seed(42)\n",
    "    num_samples, num_features = X.shape\n",
    "    num_noise_samples = int(noise_level * num_samples)\n",
    "    noise_indices = np.random.choice(num_samples, num_noise_samples, replace=False)\n",
    "    X[noise_indices, :] = np.random.random((num_noise_samples, num_features))\n",
    "    y[noise_indices] = np.random.randint(0, 2, num_noise_samples)\n",
    "    return X, y\n",
    "\n",
    "def train_simple_model(X_train, y_train):\n",
    "    model = SVC(probability=True, random_state=42)\n",
    "    model.fit(X_train, y_train)\n",
    "    return model\n",
    "\n",
    "def train_complex_model(X_train, y_train):\n",
    "    model = XGBClassifier(\n",
    "        random_state=42,\n",
    "        n_estimators=200,\n",
    "        learning_rate=0.05,\n",
    "        max_depth=10,  \n",
    "        subsample=0.8,\n",
    "        colsample_bytree=0.8,\n",
    "    )\n",
    "    model.fit(X_train, y_train)\n",
    "    return model\n"
   ]
  },
  {
   "cell_type": "code",
   "execution_count": 12,
   "id": "b6fc838f",
   "metadata": {},
   "outputs": [],
   "source": [
    "def switch_models(X_train, y_train, current_model, noise_level=0.2):\n",
    "    X_train_noisy, y_train_noisy = add_noise(X_train.copy(), y_train.copy(), noise_level)\n",
    "\n",
    "    current_model_predictions = current_model.predict(X_val)\n",
    "    current_model_accuracy = accuracy_score(y_val, current_model_predictions)\n",
    "\n",
    "    new_model = train_complex_model(X_train_noisy, y_train_noisy)\n",
    "\n",
    "    new_model_predictions = new_model.predict(X_val)\n",
    "    new_model_accuracy = accuracy_score(y_val, new_model_predictions)\n",
    "\n",
    "    if new_model_accuracy > current_model_accuracy:\n",
    "        print(f\"Switching to a new model with accuracy: {new_model_accuracy:.2f}\")\n",
    "        return new_model, current_model_accuracy, new_model_accuracy\n",
    "    else:\n",
    "        print(f\"Keeping the current model with accuracy: {current_model_accuracy:.2f}\")\n",
    "        return current_model, current_model_accuracy, new_model_accuracy\n"
   ]
  },
  {
   "cell_type": "code",
   "execution_count": 6,
   "id": "04e5b274",
   "metadata": {},
   "outputs": [],
   "source": [
    "X, y = make_classification(n_samples=1000, n_features=20, n_informative=10, n_clusters_per_class=2, random_state=42)\n",
    "\n",
    "X_train, X_val, y_train, y_val = train_test_split(X, y, test_size=0.2, random_state=42)\n"
   ]
  },
  {
   "cell_type": "code",
   "execution_count": 14,
   "id": "6099e354",
   "metadata": {},
   "outputs": [
    {
     "name": "stdout",
     "output_type": "stream",
     "text": [
      "Switching to a new model with accuracy: 0.96\n",
      "New model accuracy: 0.96\n",
      "Previous model accuracy: 0.93\n"
     ]
    }
   ],
   "source": [
    "current_model = train_simple_model(X_train, y_train)\n",
    "\n",
    "current_model, previous_accuracy, new_accuracy = switch_models(X_train, y_train, current_model, noise_level=0.2)\n",
    "\n",
    "print(f\"Previous model accuracy: {previous_accuracy:.2f}\")\n",
    "print(f\"New model accuracy: {new_accuracy:.2f}\")"
   ]
  }
 ],
 "metadata": {
  "kernelspec": {
   "display_name": "Python 3 (ipykernel)",
   "language": "python",
   "name": "python3"
  },
  "language_info": {
   "codemirror_mode": {
    "name": "ipython",
    "version": 3
   },
   "file_extension": ".py",
   "mimetype": "text/x-python",
   "name": "python",
   "nbconvert_exporter": "python",
   "pygments_lexer": "ipython3",
   "version": "3.11.3"
  }
 },
 "nbformat": 4,
 "nbformat_minor": 5
}
